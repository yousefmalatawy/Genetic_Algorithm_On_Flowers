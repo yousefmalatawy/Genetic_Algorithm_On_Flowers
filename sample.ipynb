{
 "cells": [
  {
   "metadata": {
    "ExecuteTime": {
     "end_time": "2025-10-17T17:00:15.711166Z",
     "start_time": "2025-10-17T17:00:14.925294Z"
    }
   },
   "cell_type": "code",
   "source": [
    "\n",
    "\n",
    "import random\n",
    "import matplotlib.pyplot as plt\n",
    "import time\n",
    "import ipywidgets as widgets\n",
    "from IPython.display import display, clear_output\n",
    "%matplotlib widget"
   ],
   "id": "7cf1b42d6fd8904f",
   "outputs": [],
   "execution_count": 1
  },
  {
   "metadata": {},
   "cell_type": "markdown",
   "source": [
    "# Class Definition\n",
    "The flower has a DNA sequence with 11 chromosomes 3 color channels for the center , petals and stem the number of petals and the size of the center .\n",
    "There is also a function to print the details of each flower\n",
    "(limits for each chromosome like the range 0-255 in each **RGB** channel will be handled by setting limits for the random function later on)"
   ],
   "id": "c69b4e0dafa7254f"
  },
  {
   "metadata": {
    "ExecuteTime": {
     "end_time": "2025-10-17T17:00:15.731779Z",
     "start_time": "2025-10-17T17:00:15.717948Z"
    }
   },
   "cell_type": "code",
   "source": [
    "class Flower :\n",
    "    def __init__(self,sizeOfCenter,colorOfCenter,colorOfPetals,colorOfStem,numberOfPetals):\n",
    "        self.sizeOfCenter = sizeOfCenter\n",
    "        self.colorOfCenter = colorOfCenter #rgb tuple\n",
    "        self.colorOfPetals = colorOfPetals #rbg tuple\n",
    "        self.colorOfStem = colorOfStem # rgb tuple\n",
    "        self.numberOfPetals = numberOfPetals\n",
    "        self.hoverTime = 0.0\n",
    "        self.hoverStart = None\n",
    "\n",
    "    @staticmethod\n",
    "    def repair(value, low, high):\n",
    "        if isinstance(value, tuple):\n",
    "            # handle (R,G,B)\n",
    "            fixed = list(value[:3])\n",
    "            while len(fixed) < 3:\n",
    "                fixed.append(0)\n",
    "            return tuple(max(low, min(v, high)) for v in fixed)\n",
    "        return max(low, min(value, high))\n",
    "\n",
    "\n",
    "\n",
    "    def startHover(self):\n",
    "        if self.hoverStart is None:\n",
    "            self.hoverStart = time.time()\n",
    "\n",
    "    def stopHover(self):\n",
    "        if self.hoverStart is not None:\n",
    "            self.hoverTime += time.time() - self.hoverStart\n",
    "            self.hoverStart = None\n",
    "\n",
    "\n",
    "    def getHoverTime(self):\n",
    "        return self.hoverTime\n",
    "\n",
    "\n",
    "\n",
    "    def getSizeOfCenter(self):\n",
    "        return self.sizeOfCenter\n",
    "\n",
    "    def getColorOfCenter(self):\n",
    "        return self.colorOfCenter\n",
    "\n",
    "    def getColorOfPetals(self):\n",
    "        return self.colorOfPetals\n",
    "\n",
    "    def getColorOfStem(self):\n",
    "        return self.colorOfStem\n",
    "\n",
    "    def getNumberOfPetals(self):\n",
    "        return self.numberOfPetals\n",
    "\n",
    "    def setSizeOfCenter(self,size):\n",
    "        if 5 <= size <= 15:\n",
    "            self.sizeOfCenter = size\n",
    "        else:\n",
    "            self.sizeOfCenter = self.repair(size, 5, 15)\n",
    "\n",
    "\n",
    "\n",
    "    def setColorOfCenter(self,colorOfCenter):\n",
    "        if (\n",
    "        isinstance(colorOfCenter, tuple) and\n",
    "        len(colorOfCenter) == 3 and\n",
    "        all(0 <= v <= 255 for v in colorOfCenter)\n",
    "        ):\n",
    "            self.colorOfCenter = colorOfCenter\n",
    "        else:\n",
    "            self.colorOfCenter = self.repair(colorOfCenter, 0, 255)\n",
    "\n",
    "    def setColorOfPetals(self,colorOfPetals):\n",
    "        if (\n",
    "        isinstance(colorOfPetals, tuple) and\n",
    "        len(colorOfPetals) == 3 and\n",
    "        all(0 <= v <= 255 for v in colorOfPetals)\n",
    "        ):\n",
    "            self.colorOfPetals = colorOfPetals\n",
    "        else:\n",
    "            self.colorOfPetals = self.repair(colorOfPetals, 0, 255)\n",
    "\n",
    "\n",
    "    def setColorOfStem(self,colorOfStem):\n",
    "        if (\n",
    "        isinstance(colorOfStem, tuple) and\n",
    "        len(colorOfStem) == 3 and\n",
    "        all(0 <= v <= 255 for v in colorOfStem)\n",
    "        ):\n",
    "            self.colorOfStem = colorOfStem\n",
    "        else:\n",
    "            self.colorOfStem = self.repair(colorOfStem, 0, 255)\n",
    "\n",
    "    def setNumberOfPetals(self,numberOfPetals):\n",
    "        if 0 <= numberOfPetals <= 7:\n",
    "            self.numberOfPetals = numberOfPetals\n",
    "        else:\n",
    "            self.numberOfPetals = self.repair(numberOfPetals, 0, 7)\n",
    "\n",
    "    def printDetails(self):\n",
    "        print(\"🌼 Flower Details 🌼\")\n",
    "        print(f\"Center size       : {self.sizeOfCenter}\")\n",
    "        print(f\"Number of petals  : {self.numberOfPetals}\")\n",
    "        print(f\"Center color (RGB): {self.colorOfCenter}\")\n",
    "        print(f\"Petal color  (RGB): {self.colorOfPetals}\")\n",
    "        print(f\"Stem color   (RGB): {self.colorOfStem}\")\n",
    "        print(\"-\" * 35)\n"
   ],
   "id": "fbc121e30a2defb3",
   "outputs": [],
   "execution_count": 2
  },
  {
   "metadata": {
    "ExecuteTime": {
     "end_time": "2025-10-17T17:00:15.744552Z",
     "start_time": "2025-10-17T17:00:15.739412Z"
    }
   },
   "cell_type": "code",
   "source": [
    "def randomColor() :\n",
    "    return (random.randint(0, 255),random.randint(0, 255),random.randint(0, 255))\n",
    "\n",
    "\n",
    "def normalizeRGB (rbg_tuple):\n",
    "    return tuple(v/255 for v in rbg_tuple)\n"
   ],
   "id": "850909c1d4bed37b",
   "outputs": [],
   "execution_count": 3
  },
  {
   "metadata": {
    "ExecuteTime": {
     "end_time": "2025-10-17T17:00:15.756645Z",
     "start_time": "2025-10-17T17:00:15.751367Z"
    }
   },
   "cell_type": "code",
   "source": [
    "gen_num = 1\n",
    "population_size = 8\n",
    "gen_dict = {}\n",
    "\n",
    "def initPop (size , dictionary):\n",
    "    population = []\n",
    "    for i in range(size):\n",
    "        center = round(random.uniform(5,15),2) # 2 decimal places\n",
    "        color_center = randomColor()\n",
    "        color_petals = randomColor()\n",
    "        stem_color = randomColor()\n",
    "        petals= random.randint(0,7)\n",
    "        flower = Flower(center,color_center,color_petals,stem_color,petals)\n",
    "        population.append(flower)\n",
    "    dictionary[f\"Generation{gen_num}\"] = population\n",
    "\n",
    "    return population\n"
   ],
   "id": "2d17caa8874cf764",
   "outputs": [],
   "execution_count": 4
  },
  {
   "metadata": {
    "ExecuteTime": {
     "end_time": "2025-10-17T17:00:15.771154Z",
     "start_time": "2025-10-17T17:00:15.763926Z"
    }
   },
   "cell_type": "code",
   "source": [
    "# def draw_generation(population):\n",
    "#     fig, axes = plt.subplots(1, len(population), figsize=(16, 3))\n",
    "#     plt.subplots_adjust(wspace=0.5)\n",
    "#\n",
    "#     for ax, flower in zip(axes, population):\n",
    "#         # Draw stem\n",
    "#         ax.plot([0, 0], [0, -1], color=normalizeRGB(flower.colorOfStem), linewidth=3)\n",
    "#\n",
    "#         # Draw petals\n",
    "#         for i in range(flower.numberOfPetals):\n",
    "#             angle = (360 / max(1, flower.numberOfPetals)) * i\n",
    "#             x = 0.5 * flower.sizeOfCenter * 0.1 * random.uniform(0.8, 1.2)\n",
    "#             y = 0.5 * flower.sizeOfCenter * 0.1 * random.uniform(0.8, 1.2)\n",
    "#             circle = plt.Circle((x, y), flower.sizeOfCenter * 0.05,\n",
    "#                                 color=normalizeRGB(flower.colorOfPetals))\n",
    "#             ax.add_patch(circle)\n",
    "#\n",
    "#         # Draw center\n",
    "#         center_circle = plt.Circle((0, 0), flower.sizeOfCenter * 0.1,\n",
    "#                                    color=normalizeRGB(flower.colorOfCenter))\n",
    "#         ax.add_patch(center_circle)\n",
    "#\n",
    "#         ax.set_xlim(-1, 1)\n",
    "#         ax.set_ylim(-1.5, 1.5)\n",
    "#         ax.axis('off')\n",
    "#         ax.set_title(f\"Flower #{population.index(flower)+1}\")\n",
    "#\n",
    "#     plt.show()\n",
    "\n",
    "def draw_generation(population):\n",
    "    fig, axes = plt.subplots(1, len(population), figsize=(16, 3))\n",
    "    plt.subplots_adjust(wspace=0.5)\n",
    "\n",
    "    for ax, flower in zip(axes, population):\n",
    "        ax.set_title(f\"Flower\")\n",
    "        ax.set_xlim(-1, 1)\n",
    "        ax.set_ylim(-1, 1)\n",
    "        ax.axis('off')\n",
    "\n",
    "        # draw center as a colored circle\n",
    "        center = plt.Circle((0, 0), 0.2, color=normalizeRGB(flower.colorOfCenter))\n",
    "        ax.add_patch(center)\n",
    "    plt.show()\n"
   ],
   "id": "489b1f9cd386d675",
   "outputs": [],
   "execution_count": 5
  },
  {
   "metadata": {
    "ExecuteTime": {
     "end_time": "2025-10-17T17:03:58.354417Z",
     "start_time": "2025-10-17T17:03:58.341858Z"
    }
   },
   "cell_type": "code",
   "source": [
    "# button to create first generation\n",
    "def startButtonOnclick(b):\n",
    "    clear_output(wait=True)\n",
    "    display(\"Button clicked!\")\n",
    "\n",
    "    population = initPop(population_size, gen_dict)\n",
    "    display(\"Population generated:\", len(population))\n",
    "\n",
    "    # draw_generation(population)\n",
    "\n",
    "\n",
    "\n",
    "\n",
    "start_button = widgets.Button(description=\"Create First Generation\",\n",
    "                              button_style='success',\n",
    "                              layout=widgets.Layout(width='250px',height='50px')\n",
    "                              )\n",
    "\n",
    "\n",
    "\n",
    "\n",
    "start_button.on_click(startButtonOnclick)\n",
    "display(start_button)\n",
    "\n",
    "\n",
    "\n"
   ],
   "id": "9acd3f9f9f06af67",
   "outputs": [
    {
     "data": {
      "text/plain": [
       "Button(button_style='success', description='Create First Generation', layout=Layout(height='50px', width='250p…"
      ],
      "application/vnd.jupyter.widget-view+json": {
       "version_major": 2,
       "version_minor": 0,
       "model_id": "605b0ffa18ac460698333f81d89de0cc"
      }
     },
     "metadata": {},
     "output_type": "display_data"
    }
   ],
   "execution_count": 11
  },
  {
   "metadata": {
    "ExecuteTime": {
     "end_time": "2025-10-17T17:03:19.830280Z",
     "start_time": "2025-10-17T17:03:19.815328Z"
    }
   },
   "cell_type": "code",
   "source": "start_button._click_handlers.callbacks\n",
   "id": "a13285bef1e7d6fd",
   "outputs": [
    {
     "data": {
      "text/plain": [
       "[<function __main__.startButtonOnclick(b)>]"
      ]
     },
     "execution_count": 9,
     "metadata": {},
     "output_type": "execute_result"
    }
   ],
   "execution_count": 9
  }
 ],
 "metadata": {
  "kernelspec": {
   "display_name": "Python 3",
   "language": "python",
   "name": "python3"
  },
  "language_info": {
   "codemirror_mode": {
    "name": "ipython",
    "version": 2
   },
   "file_extension": ".py",
   "mimetype": "text/x-python",
   "name": "python",
   "nbconvert_exporter": "python",
   "pygments_lexer": "ipython2",
   "version": "2.7.6"
  }
 },
 "nbformat": 4,
 "nbformat_minor": 5
}
