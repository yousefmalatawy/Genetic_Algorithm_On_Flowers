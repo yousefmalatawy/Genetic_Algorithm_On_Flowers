{
 "cells": [
  {
   "metadata": {
    "ExecuteTime": {
     "end_time": "2025-10-16T15:19:23.339919Z",
     "start_time": "2025-10-16T15:19:20.069446Z"
    }
   },
   "cell_type": "code",
   "source": [
    "import random\n",
    "import matplotlib.pyplot as plt\n",
    "\n"
   ],
   "id": "7cf1b42d6fd8904f",
   "outputs": [],
   "execution_count": 1
  },
  {
   "metadata": {},
   "cell_type": "markdown",
   "source": [
    "# Class Definition\n",
    "The flower has a DNA sequence with 11 chromosomes 3 color channels for the center , petals and stem the number of petals and the size of the center .\n",
    "There is also a function to print the details of each flower\n",
    "(limits for each chromosome like the range 0-255 in each **RGB** channel will be handled by setting limits for the random function later on)"
   ],
   "id": "c69b4e0dafa7254f"
  },
  {
   "metadata": {
    "ExecuteTime": {
     "end_time": "2025-10-16T15:19:23.373971Z",
     "start_time": "2025-10-16T15:19:23.367783Z"
    }
   },
   "cell_type": "code",
   "source": [
    "class Flower :\n",
    "    def __init__(self,sizeOfCenter,colorOfCenter,colorOfPetals,colorOfStem,numberOfPetals):\n",
    "        self.sizeOfCenter = sizeOfCenter\n",
    "        self.colorOfCenter = colorOfCenter #rgb tuple\n",
    "        self.colorOfPetals = colorOfPetals #rbg tuple\n",
    "        self.colorOfStem = colorOfStem # rgb tuple\n",
    "        self.numberOfPetals = numberOfPetals\n",
    "\n",
    "    @staticmethod\n",
    "    def repair(value, low, high):\n",
    "        if isinstance(value, tuple):  # handle (R,G,B)\n",
    "            return tuple(max(low, min(v, high)) for v in value)\n",
    "        return max(low, min(value, high))\n",
    "\n",
    "    def getSizeOfCenter(self):\n",
    "        return self.sizeOfCenter\n",
    "\n",
    "    def getColorOfCenter(self):\n",
    "        return self.colorOfCenter\n",
    "\n",
    "    def getColorOfPetals(self):\n",
    "        return self.colorOfPetals\n",
    "\n",
    "    def getColorOfStem(self):\n",
    "        return self.colorOfStem\n",
    "\n",
    "    def getNumberOfPetals(self):\n",
    "        return self.numberOfPetals\n",
    "\n",
    "    def setSizeOfCenter(self,size):\n",
    "        if 5 <= size <= 15:\n",
    "            self.sizeOfCenter = size\n",
    "        else:\n",
    "            self.sizeOfCenter = self.repair(size, 5, 15)\n",
    "\n",
    "\n",
    "#repair needed still\n",
    "    def setColorOfCenter(self,colorOfCenter):\n",
    "        self.colorOfCenter = colorOfCenter\n",
    "\n",
    "    def setColorOfPetals(self,colorOfPetals):\n",
    "        self.colorOfPetals = colorOfPetals\n",
    "\n",
    "\n",
    "    def setColorOfStem(self,colorOfStem):\n",
    "        self.colorOfStem = colorOfStem\n",
    "\n",
    "    def setNumberOfPetals(self,numberOfPetals):\n",
    "        if 0 <= numberOfPetals <= 7:\n",
    "            self.numberOfPetals = numberOfPetals\n",
    "        else:\n",
    "            self.numberOfPetals = self.repair(numberOfPetals, 0, 7)\n",
    "\n",
    "    def printDetails(self):\n",
    "        print(\"🌼 Flower Details 🌼\")\n",
    "        print(f\"Center size       : {self.sizeOfCenter}\")\n",
    "        print(f\"Number of petals  : {self.numberOfPetals}\")\n",
    "        print(f\"Center color (RGB): {self.colorOfCenter}\")\n",
    "        print(f\"Petal color  (RGB): {self.colorOfPetals}\")\n",
    "        print(f\"Stem color   (RGB): {self.colorOfStem}\")\n",
    "        print(\"-\" * 35)\n"
   ],
   "id": "fbc121e30a2defb3",
   "outputs": [],
   "execution_count": 2
  },
  {
   "metadata": {
    "ExecuteTime": {
     "end_time": "2025-10-16T15:19:23.450848Z",
     "start_time": "2025-10-16T15:19:23.447271Z"
    }
   },
   "cell_type": "code",
   "source": [
    "def randomColor() :\n",
    "    return (random.randint(0, 255),random.randint(0, 255),random.randint(0, 255))\n",
    "\n"
   ],
   "id": "850909c1d4bed37b",
   "outputs": [],
   "execution_count": 3
  },
  {
   "metadata": {
    "ExecuteTime": {
     "end_time": "2025-10-16T15:19:23.532596Z",
     "start_time": "2025-10-16T15:19:23.525977Z"
    }
   },
   "cell_type": "code",
   "source": [
    "gen_num = 1\n",
    "population_size = 8\n",
    "gen_dict = {}\n",
    "\n",
    "intit_population = []\n",
    "for i in range(population_size):\n",
    "    center = round(random.uniform(5,15),2) # 2 decimal places\n",
    "    color_center = randomColor()\n",
    "    color_petals = randomColor()\n",
    "    stem_color = randomColor()\n",
    "    petals= random.randint(0,7)\n",
    "    flower = Flower(center,color_center,color_petals,stem_color,petals)\n",
    "    intit_population.append(flower)\n",
    "\n",
    "gen_dict[f\"Generation{gen_num}\"] = intit_population\n",
    "\n",
    "for f in intit_population:\n",
    "    f.printDetails()\n",
    "\n"
   ],
   "id": "489b1f9cd386d675",
   "outputs": [
    {
     "name": "stdout",
     "output_type": "stream",
     "text": [
      "🌼 Flower Details 🌼\n",
      "Center size       : 12.760504356950786\n",
      "Number of petals  : 6\n",
      "Center color (RGB): (61, 178, 82)\n",
      "Petal color  (RGB): (183, 200, 159)\n",
      "Stem color   (RGB): (141, 66, 45)\n",
      "-----------------------------------\n",
      "🌼 Flower Details 🌼\n",
      "Center size       : 10.448957744124584\n",
      "Number of petals  : 7\n",
      "Center color (RGB): (136, 152, 142)\n",
      "Petal color  (RGB): (96, 152, 242)\n",
      "Stem color   (RGB): (230, 146, 170)\n",
      "-----------------------------------\n",
      "🌼 Flower Details 🌼\n",
      "Center size       : 7.667624541726879\n",
      "Number of petals  : 3\n",
      "Center color (RGB): (170, 34, 44)\n",
      "Petal color  (RGB): (98, 217, 194)\n",
      "Stem color   (RGB): (183, 83, 38)\n",
      "-----------------------------------\n",
      "🌼 Flower Details 🌼\n",
      "Center size       : 14.09726525541393\n",
      "Number of petals  : 3\n",
      "Center color (RGB): (127, 231, 21)\n",
      "Petal color  (RGB): (134, 70, 250)\n",
      "Stem color   (RGB): (10, 55, 72)\n",
      "-----------------------------------\n",
      "🌼 Flower Details 🌼\n",
      "Center size       : 13.762842666316683\n",
      "Number of petals  : 4\n",
      "Center color (RGB): (134, 243, 231)\n",
      "Petal color  (RGB): (55, 140, 63)\n",
      "Stem color   (RGB): (153, 130, 86)\n",
      "-----------------------------------\n",
      "🌼 Flower Details 🌼\n",
      "Center size       : 11.325833866365228\n",
      "Number of petals  : 3\n",
      "Center color (RGB): (4, 32, 187)\n",
      "Petal color  (RGB): (140, 66, 144)\n",
      "Stem color   (RGB): (12, 3, 38)\n",
      "-----------------------------------\n",
      "🌼 Flower Details 🌼\n",
      "Center size       : 10.904420402574015\n",
      "Number of petals  : 7\n",
      "Center color (RGB): (7, 168, 38)\n",
      "Petal color  (RGB): (28, 238, 36)\n",
      "Stem color   (RGB): (21, 231, 46)\n",
      "-----------------------------------\n",
      "🌼 Flower Details 🌼\n",
      "Center size       : 12.26376202627506\n",
      "Number of petals  : 2\n",
      "Center color (RGB): (159, 40, 240)\n",
      "Petal color  (RGB): (127, 105, 163)\n",
      "Stem color   (RGB): (137, 148, 124)\n",
      "-----------------------------------\n"
     ]
    }
   ],
   "execution_count": 4
  }
 ],
 "metadata": {
  "kernelspec": {
   "display_name": "Python 3",
   "language": "python",
   "name": "python3"
  },
  "language_info": {
   "codemirror_mode": {
    "name": "ipython",
    "version": 2
   },
   "file_extension": ".py",
   "mimetype": "text/x-python",
   "name": "python",
   "nbconvert_exporter": "python",
   "pygments_lexer": "ipython2",
   "version": "2.7.6"
  }
 },
 "nbformat": 4,
 "nbformat_minor": 5
}
